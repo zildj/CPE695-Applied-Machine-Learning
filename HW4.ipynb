{
  "nbformat": 4,
  "nbformat_minor": 0,
  "metadata": {
    "colab": {
      "name": "HW4.ipynb",
      "provenance": [],
      "authorship_tag": "ABX9TyO9U9unYIHUqT6BI70QOtuR",
      "include_colab_link": true
    },
    "kernelspec": {
      "name": "python3",
      "display_name": "Python 3"
    }
  },
  "cells": [
    {
      "cell_type": "markdown",
      "metadata": {
        "id": "view-in-github",
        "colab_type": "text"
      },
      "source": [
        "<a href=\"https://colab.research.google.com/github/zildj/CPE695-Applied-Machine-Learning/blob/master/HW4.ipynb\" target=\"_parent\"><img src=\"https://colab.research.google.com/assets/colab-badge.svg\" alt=\"Open In Colab\"/></a>"
      ]
    },
    {
      "cell_type": "code",
      "metadata": {
        "id": "Tg2cZx2PKASv",
        "colab_type": "code",
        "colab": {}
      },
      "source": [
        "import pandas as pd\n",
        "import matplotlib.pyplot as plt\n",
        "from sklearn import preprocessing\n",
        "from sklearn.model_selection import train_test_split\n",
        "from sklearn import tree\n",
        "from sklearn.neural_network import MLPClassifier\n",
        "from sklearn.metrics import classification_report\n"
      ],
      "execution_count": 0,
      "outputs": []
    },
    {
      "cell_type": "code",
      "metadata": {
        "id": "ccqynlelKkyK",
        "colab_type": "code",
        "colab": {}
      },
      "source": [
        "f=pd.read_csv(\"Titanic.csv\")\n",
        "data=f[[\"pclass\",\"sex\", \"age\",\"sibsp\"]].values\n",
        "for i in range(data[0].size):\n",
        "    data[:,i] = preprocessing.LabelEncoder().fit_transform(data[:,i])\n",
        "xTrain, xTest, yTrain, yTest = train_test_split(data, f.survived.values, test_size=0.30)"
      ],
      "execution_count": 0,
      "outputs": []
    },
    {
      "cell_type": "code",
      "metadata": {
        "id": "wKe0Eni4QcBZ",
        "colab_type": "code",
        "colab": {
          "base_uri": "https://localhost:8080/",
          "height": 445
        },
        "outputId": "4280342a-10a4-4279-9321-5f4573f1348d"
      },
      "source": [
        "# Attempt to optimize sgd solver\n",
        "clf = MLPClassifier(hidden_layer_sizes=(100, 100), activation=\"logistic\", solver=\"sgd\", learning_rate=\"adaptive\", momentum=0.9, alpha=1e-5)\n",
        "clf.fit(xTrain, yTrain)\n",
        "print(\"In-sample score (training): \",clf.score(xTrain,yTrain))\n",
        "print(classification_report(yTrain, clf.predict(xTrain)))\n",
        "print(\"Out-of-sample score (testing): \",clf.score(xTest,yTest))\n",
        "print(classification_report(yTest, clf.predict(xTest)))"
      ],
      "execution_count": 57,
      "outputs": [
        {
          "output_type": "stream",
          "text": [
            "In-sample score (training):  0.6048034934497817\n",
            "              precision    recall  f1-score   support\n",
            "\n",
            "           0       0.60      1.00      0.75       554\n",
            "           1       0.00      0.00      0.00       362\n",
            "\n",
            "    accuracy                           0.60       916\n",
            "   macro avg       0.30      0.50      0.38       916\n",
            "weighted avg       0.37      0.60      0.46       916\n",
            "\n",
            "Out-of-sample score (testing):  0.648854961832061\n",
            "              precision    recall  f1-score   support\n",
            "\n",
            "           0       0.65      1.00      0.79       255\n",
            "           1       0.00      0.00      0.00       138\n",
            "\n",
            "    accuracy                           0.65       393\n",
            "   macro avg       0.32      0.50      0.39       393\n",
            "weighted avg       0.42      0.65      0.51       393\n",
            "\n"
          ],
          "name": "stdout"
        },
        {
          "output_type": "stream",
          "text": [
            "/usr/local/lib/python3.6/dist-packages/sklearn/metrics/_classification.py:1272: UndefinedMetricWarning: Precision and F-score are ill-defined and being set to 0.0 in labels with no predicted samples. Use `zero_division` parameter to control this behavior.\n",
            "  _warn_prf(average, modifier, msg_start, len(result))\n",
            "/usr/local/lib/python3.6/dist-packages/sklearn/metrics/_classification.py:1272: UndefinedMetricWarning: Precision and F-score are ill-defined and being set to 0.0 in labels with no predicted samples. Use `zero_division` parameter to control this behavior.\n",
            "  _warn_prf(average, modifier, msg_start, len(result))\n"
          ],
          "name": "stderr"
        }
      ]
    },
    {
      "cell_type": "code",
      "metadata": {
        "id": "o-f0SsIHK7Q6",
        "colab_type": "code",
        "colab": {
          "base_uri": "https://localhost:8080/",
          "height": 357
        },
        "outputId": "81b1c9ae-2cea-45e8-be52-8142e7eae704"
      },
      "source": [
        "# adam solver much better out of the box\n",
        "clf = MLPClassifier(hidden_layer_sizes=(100, 100), activation=\"logistic\", solver=\"adam\")\n",
        "clf.fit(xTrain, yTrain)\n",
        "print(\"In-sample score (training): \",clf.score(xTrain,yTrain))\n",
        "print(classification_report(yTrain, clf.predict(xTrain)))\n",
        "print(\"Out-of-sample score (testing): \",clf.score(xTest,yTest))\n",
        "print(classification_report(yTest, clf.predict(xTest)))"
      ],
      "execution_count": 58,
      "outputs": [
        {
          "output_type": "stream",
          "text": [
            "In-sample score (training):  0.7838427947598253\n",
            "              precision    recall  f1-score   support\n",
            "\n",
            "           0       0.78      0.89      0.83       554\n",
            "           1       0.78      0.62      0.70       362\n",
            "\n",
            "    accuracy                           0.78       916\n",
            "   macro avg       0.78      0.76      0.76       916\n",
            "weighted avg       0.78      0.78      0.78       916\n",
            "\n",
            "Out-of-sample score (testing):  0.7913486005089059\n",
            "              precision    recall  f1-score   support\n",
            "\n",
            "           0       0.81      0.88      0.85       255\n",
            "           1       0.74      0.62      0.68       138\n",
            "\n",
            "    accuracy                           0.79       393\n",
            "   macro avg       0.78      0.75      0.76       393\n",
            "weighted avg       0.79      0.79      0.79       393\n",
            "\n"
          ],
          "name": "stdout"
        }
      ]
    },
    {
      "cell_type": "code",
      "metadata": {
        "id": "Nqdpk4d9P_AD",
        "colab_type": "code",
        "colab": {
          "base_uri": "https://localhost:8080/",
          "height": 588
        },
        "outputId": "8df6138c-1adc-450a-e54c-601b18ac65ac"
      },
      "source": [
        "# compared to pruned tree from HW 3\n",
        "clfTree = tree.DecisionTreeClassifier(max_depth=4)\n",
        "clfTree = clfTree.fit(xTrain,yTrain)\n",
        "tree.plot_tree(clfTree, feature_names=[\"pclass\",\"sex\", \"age\",\"sibsp\"], class_names=[\"no\",\"yes\"])\n",
        "print(\"In-sample score (training): \",clfTree.score(xTrain,yTrain))\n",
        "print(classification_report(yTrain, clfTree.predict(xTrain)))\n",
        "print(\"Out-of-sample score (testing): \",clfTree.score(xTest,yTest))\n",
        "print(classification_report(yTest, clfTree.predict(xTest)))"
      ],
      "execution_count": 59,
      "outputs": [
        {
          "output_type": "stream",
          "text": [
            "In-sample score (training):  0.7903930131004366\n",
            "              precision    recall  f1-score   support\n",
            "\n",
            "           0       0.80      0.86      0.83       554\n",
            "           1       0.77      0.68      0.72       362\n",
            "\n",
            "    accuracy                           0.79       916\n",
            "   macro avg       0.78      0.77      0.78       916\n",
            "weighted avg       0.79      0.79      0.79       916\n",
            "\n",
            "Out-of-sample score (testing):  0.7913486005089059\n",
            "              precision    recall  f1-score   support\n",
            "\n",
            "           0       0.83      0.86      0.84       255\n",
            "           1       0.72      0.67      0.69       138\n",
            "\n",
            "    accuracy                           0.79       393\n",
            "   macro avg       0.77      0.76      0.77       393\n",
            "weighted avg       0.79      0.79      0.79       393\n",
            "\n"
          ],
          "name": "stdout"
        },
        {
          "output_type": "display_data",
          "data": {
            "image/png": "[encoded data removed]",
            "text/plain": [
              "<Figure size 432x288 with 1 Axes>"
            ]
          },
          "metadata": {
            "tags": [],
            "needs_background": "light"
          }
        }
      ]
    }
  ]
}